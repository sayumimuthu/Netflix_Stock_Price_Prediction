{
 "cells": [
  {
   "cell_type": "markdown",
   "id": "75449ae2-ec68-49d8-9928-fa672875b428",
   "metadata": {},
   "source": [
    "**Prediction of the Netflix Stock Market Price on the next day**"
   ]
  },
  {
   "cell_type": "markdown",
   "id": "c22596f8-571b-4e5a-af70-e6ff1c4c6ec9",
   "metadata": {},
   "source": [
    "**EDA**"
   ]
  },
  {
   "cell_type": "code",
   "execution_count": null,
   "id": "4f4c5d39-ae50-4e4b-8b2c-6cc7cb9517df",
   "metadata": {},
   "outputs": [],
   "source": [
    "import tensorflow as tf\n",
    "from tensorflow import keras\n",
    "from tensorflow.keras.models import Sequential\n",
    "from tensorflow.keras.layers import Dense\n",
    "from tensorflow.keras.activations import linear, relu, sigmoid\n",
    "\n",
    "import matplotlib.pyplot as plt\n",
    "import pandas as pd\n",
    "import numpy as np\n",
    "import math"
   ]
  },
  {
   "cell_type": "code",
   "execution_count": null,
   "id": "aa5870a9-45f0-40a2-b5bd-611a71ad2258",
   "metadata": {},
   "outputs": [],
   "source": [
    "#Data Pre-Processing\n",
    "\n",
    "import pandas as pd\n",
    "from tabulate import tabulate\n",
    "\n",
    "data = pd.read_csv(\"NFLX.csv\")\n",
    "#print(tabulate(data, headers='keys', tablefmt='grid'))\n",
    "data.head()"
   ]
  },
  {
   "cell_type": "code",
   "execution_count": null,
   "id": "e34d2c16-3d05-4ce5-9520-b830523ecd8b",
   "metadata": {},
   "outputs": [],
   "source": [
    "#Check for null values in the dataset\n",
    "data.isna().sum()\n"
   ]
  },
  {
   "cell_type": "code",
   "execution_count": null,
   "id": "7ba2b9f0-37f1-4fe1-9760-d0956511a09d",
   "metadata": {},
   "outputs": [],
   "source": [
    "#Check for duplicate values in the dataset\n",
    "data.duplicated().sum()"
   ]
  },
  {
   "cell_type": "code",
   "execution_count": null,
   "id": "51fd001d-88dd-4717-9d2d-50084908c15a",
   "metadata": {},
   "outputs": [],
   "source": [
    "#Add a column with the stock prices of the next day\n",
    "data['Next'] = data['Open'].shift(-1)\n",
    "\n",
    "data.shape"
   ]
  },
  {
   "cell_type": "code",
   "execution_count": null,
   "id": "ff8c0a38-9bab-4564-a0ef-f0bbfd2d88db",
   "metadata": {},
   "outputs": [],
   "source": [
    "#Check for null values in the dataset\n",
    "data.isna().sum()"
   ]
  },
  {
   "cell_type": "code",
   "execution_count": null,
   "id": "5ebbd341-1de9-4ad9-87aa-6ef6ea2649a5",
   "metadata": {},
   "outputs": [],
   "source": [
    "#Drop rows containing null values\n",
    "data.dropna(axis=0, inplace=True)"
   ]
  },
  {
   "cell_type": "code",
   "execution_count": null,
   "id": "1c13665b-0308-4897-a31a-db97f2978e4b",
   "metadata": {},
   "outputs": [],
   "source": [
    "data.head()"
   ]
  },
  {
   "cell_type": "code",
   "execution_count": null,
   "id": "ced66e12-a9cd-4724-a84a-a667175e8ec0",
   "metadata": {},
   "outputs": [],
   "source": [
    "#Remove irrelevant data columns\n",
    "data = data.drop(['Date', 'Adj Close'], axis=1)\n",
    "data.head()"
   ]
  },
  {
   "cell_type": "code",
   "execution_count": null,
   "id": "dcce5d94-e44d-41cf-b46d-fc5ee1e5c9a5",
   "metadata": {},
   "outputs": [],
   "source": [
    "#Obtaining X and Y data set\n",
    "X = data.drop(['Next'], axis=1)\n",
    "y = data['Next']"
   ]
  },
  {
   "cell_type": "code",
   "execution_count": null,
   "id": "419e10e8-4e92-43a5-8d48-57a09ba69c1c",
   "metadata": {},
   "outputs": [],
   "source": [
    "#Split data set as 80% for training and 20% for testing\n",
    "from sklearn.model_selection import train_test_split\n",
    "\n",
    "X_train, X_test, y_train, y_test = train_test_split(X, y, test_size=0.2, random_state=42)"
   ]
  },
  {
   "cell_type": "markdown",
   "id": "2d29bcaa-3857-46c6-9c2b-d3a26c1ad90c",
   "metadata": {},
   "source": [
    "**Building the Neural Network**"
   ]
  },
  {
   "cell_type": "code",
   "execution_count": null,
   "id": "f974a72a-7230-4c1f-b1b2-723a3adbda92",
   "metadata": {},
   "outputs": [],
   "source": [
    "from tensorflow.keras.models import Sequential\n",
    "\n",
    "#Model Creation\n",
    "model = tf.keras.Sequential(\n",
    "    [\n",
    "        tf.keras.Input(shape=(5,), name=\"input\"),\n",
    "        tf.keras.layers.BatchNormalization(axis=-1),\n",
    "        #Dense(512, activation='relu', name='L1'),\n",
    "        #Dense(256, activation='relu', name='L2'),\n",
    "        #Dense(128, activation='relu', name='L3'),\n",
    "        #Dense(64, activation='relu', name='L4'),\n",
    "        Dense(32, activation='relu', name='L5'),\n",
    "        Dense(16, activation='relu', name='L6'),\n",
    "        Dense(8, activation='relu', name='L7'),\n",
    "        Dense(1, activation='linear', name='output'),\n",
    "    ], name=\"my_model\"\n",
    ")\n",
    "\n",
    "#Defining the loss function\n",
    "loss_function = tf.keras.losses.MeanSqquaredError()\n",
    "\n",
    "#Select an appropriate optimizer\n",
    "optimizer = tf.keras.optimizers.Adam(learning_rate = 0.001)\n",
    "\n",
    "#Compilation\n",
    "model.compile(optimizer=optimizer, loss=loss_function)\n",
    "\n",
    "#Defining the batch size\n",
    "BATCH_SIZE = 20\n",
    "\n",
    "#Model fitting\n",
    "history = model.fit(X_train, y_train, batch_size=BATCH_SIZE, epochs=20)\n",
    "    "
   ]
  },
  {
   "cell_type": "code",
   "execution_count": null,
   "id": "131edce4-6141-4e2d-b752-9bc029552e5a",
   "metadata": {},
   "outputs": [],
   "source": [
    "model.summary()"
   ]
  },
  {
   "cell_type": "code",
   "execution_count": null,
   "id": "b50e9c1d-6e54-4424-81d3-193c7e3b806e",
   "metadata": {},
   "outputs": [],
   "source": []
  }
 ],
 "metadata": {
  "kernelspec": {
   "display_name": "Python 3 (ipykernel)",
   "language": "python",
   "name": "python3"
  },
  "language_info": {
   "codemirror_mode": {
    "name": "ipython",
    "version": 3
   },
   "file_extension": ".py",
   "mimetype": "text/x-python",
   "name": "python",
   "nbconvert_exporter": "python",
   "pygments_lexer": "ipython3",
   "version": "3.9.1"
  }
 },
 "nbformat": 4,
 "nbformat_minor": 5
}
